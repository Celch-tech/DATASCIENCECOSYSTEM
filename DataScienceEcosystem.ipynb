{
 "cells": [
  {
   "cell_type": "markdown",
   "id": "3e0abef0-7d2f-47af-aaed-9482e2f95714",
   "metadata": {},
   "source": [
    "# Data Science Tools and Ecosystem"
   ]
  },
  {
   "cell_type": "markdown",
   "id": "5e6fe555-5c02-43aa-9303-ef56544ebc12",
   "metadata": {},
   "source": [
    "In this notebook, Data Science Tools and Ecosystem are summarized. "
   ]
  },
  {
   "cell_type": "markdown",
   "id": "95cb4c8c-9eeb-46e7-88bf-86771c37af19",
   "metadata": {},
   "source": [
    "**Here are somme of the objectives of this notebook :** \n",
    "- List popular languages for data science\n",
    "- List commonly used libraries used by data scientists\n",
    "- List data science tools\n",
    "- Give some exemples of aruthmetic expressions in Python "
   ]
  },
  {
   "cell_type": "markdown",
   "id": "5044a9f4-c059-4ef0-9a8a-20c4cccfaa23",
   "metadata": {},
   "source": [
    "Some of the popular languages for data scientists are : \n",
    "1. R\n",
    "2. Python\n",
    "3. Julia\n",
    "4. SQL"
   ]
  },
  {
   "cell_type": "markdown",
   "id": "0358512c-a00c-48c1-8f97-8bf5466f17d3",
   "metadata": {},
   "source": [
    "Some of the commonly used libraries used by Data Scientists include for example : \n",
    "1. Pandas\n",
    "2. Numpy\n",
    "3. Beautifulsoup\n",
    "4. GGplot\n",
    "5. Matplotlib"
   ]
  },
  {
   "cell_type": "markdown",
   "id": "cf04fd79-fb29-4baf-9fa7-c57d230f4b80",
   "metadata": {},
   "source": [
    "| Data Science Tools|\n",
    "|-------------------|\n",
    "|Seaborn|\n",
    "|Docker|\n",
    "|MySQL|"
   ]
  },
  {
   "cell_type": "markdown",
   "id": "f54293e5-26d2-489a-ad8a-d815fe403629",
   "metadata": {},
   "source": [
    "### Below are a few examples of evaluating arithmetic expressions in Python"
   ]
  },
  {
   "cell_type": "markdown",
   "id": "a772efce-dc76-43a4-9fad-e6608af3b457",
   "metadata": {},
   "source": [
    "This is a simple arithmetic expression to multiply then add integers "
   ]
  },
  {
   "cell_type": "code",
   "execution_count": 4,
   "id": "959142c6-f088-4e6e-bdf6-6f9a2411bb0e",
   "metadata": {},
   "outputs": [
    {
     "data": {
      "text/plain": [
       "17"
      ]
     },
     "execution_count": 4,
     "metadata": {},
     "output_type": "execute_result"
    }
   ],
   "source": [
    "(3*4)+5"
   ]
  },
  {
   "cell_type": "markdown",
   "id": "c9b14ba1-bbc5-4270-909c-d437637408b1",
   "metadata": {},
   "source": [
    "This will convert 200 minutes to hours by dividing by 60"
   ]
  },
  {
   "cell_type": "code",
   "execution_count": 6,
   "id": "31525551-6790-487b-b2f1-30bf8238d30b",
   "metadata": {},
   "outputs": [
    {
     "data": {
      "text/plain": [
       "3.3333333333333335"
      ]
     },
     "execution_count": 6,
     "metadata": {},
     "output_type": "execute_result"
    }
   ],
   "source": [
    "200/60"
   ]
  },
  {
   "cell_type": "markdown",
   "id": "e29bd1f4-e499-472c-a004-693f8faff175",
   "metadata": {},
   "source": [
    "## Author\n",
    "Céline Chicot"
   ]
  },
  {
   "cell_type": "code",
   "execution_count": null,
   "id": "80801dde-fec8-4ffe-bdd6-1920effb3524",
   "metadata": {},
   "outputs": [],
   "source": []
  }
 ],
 "metadata": {
  "kernelspec": {
   "display_name": "Python 3 (ipykernel)",
   "language": "python",
   "name": "python3"
  },
  "language_info": {
   "codemirror_mode": {
    "name": "ipython",
    "version": 3
   },
   "file_extension": ".py",
   "mimetype": "text/x-python",
   "name": "python",
   "nbconvert_exporter": "python",
   "pygments_lexer": "ipython3",
   "version": "3.12.8"
  }
 },
 "nbformat": 4,
 "nbformat_minor": 5
}
